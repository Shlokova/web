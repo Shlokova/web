{
 "cells": [
  {
   "cell_type": "markdown",
   "metadata": {},
   "source": [
    "# Моделирование информационных потоков"
   ]
  },
  {
   "cell_type": "code",
   "execution_count": 831,
   "metadata": {},
   "outputs": [],
   "source": [
    "import requests\n",
    "import pandas as pd\n",
    "from datetime import datetime\n",
    "import time\n",
    "import math \n",
    "import matplotlib.dates as mdates\n",
    "from scipy import optimize\n",
    "import matplotlib.pyplot as plt\n",
    "import numpy as np\n",
    "id_group = 'spbu_advert'                                                              \n",
    "                                                           \n",
    "count_posts = 100000                                                          \n",
    "\n"
   ]
  },
  {
   "cell_type": "code",
   "execution_count": 36,
   "metadata": {},
   "outputs": [],
   "source": [
    "offset = 0      \n",
    "count = 100       \n",
    "data_posts = []\n",
    "\n",
    "while offset < count_posts:\n",
    "\n",
    "    url = 'https://api.vk.com/method/wall.get'\n",
    "    params = {\n",
    "        'domain': id_group,\n",
    "        'filter': 'all',                                      \n",
    "        'count': count,\n",
    "        'offset': offset,\n",
    "        'access_token': token,\n",
    "        'v': 5.73\n",
    "    }\n",
    "    \n",
    "    r = requests.get(url, params = params).json()\n",
    "    \n",
    "    check = True\n",
    "    if check:\n",
    "        real_count = r['response']['count']\n",
    "        if real_count < count_posts:\n",
    "            count_posts = real_count\n",
    "            check = False\n",
    "        else:\n",
    "            check = False\n",
    "    \n",
    "    data_posts += r['response']['items'] \n",
    "    offset += count    \n",
    "    time.sleep(0.5)"
   ]
  },
  {
   "cell_type": "code",
   "execution_count": null,
   "metadata": {},
   "outputs": [],
   "source": [
    "#продам@spbu_advert\n",
    "#учеба@spbu_advert\n",
    "#пунк@spbu_advert\n",
    "#вунк@spbu_advert\n",
    "#пропуск@spbu_advert\n",
    "\n",
    "#мертвая_душа@spbu_advert\n",
    "#пропуск@spbu_advert\n",
    "#соседи@spbu_advert\n",
    "#учеба@spbu_advert\n",
    "#услуги@spbu_advert\n",
    "#перевозки@spbu_advert\n",
    "#мероприятия@spbu_advert\n",
    "#мебель@spbu_advert\n",
    "#печать@spbu_advert\n",
    "#бск@spbu_advert\n",
    "#книги@spbu_advert\n",
    "#еда@spbu_advert\n",
    "#косметика@spbu_advert\n",
    "#холодильник@spbu_advert\n",
    "#техника@spbu_advert\n",
    "#потеря@spbu_advert\n",
    "#находка@spbu_advert\n",
    "#обмен@spbu_advert\n",
    "#продам@spbu_advert\n",
    "#куплю@spbu_advert\n",
    "#отдам@spbu_advert\n",
    "#ищу@spbu_advert\n",
    "#вопрос@spbu_advert\n",
    "#жилье@spbu_advert\n",
    "#животные@spbu_advert\n",
    "#просьба@spbu_advert\n",
    "#приму@spbu_advert\n",
    "#работа@spbu_advert\n",
    "#аренда@spbu_advert\n",
    "#опрос@spbu_advert"
   ]
  },
  {
   "cell_type": "code",
   "execution_count": 779,
   "metadata": {},
   "outputs": [],
   "source": [
    "\n",
    "\n",
    "stats_1 = []\n",
    "stats_2 = []\n",
    "hashtag_1 = '#пропуск@spbu_advert'\n",
    "hashtag_2 = '#мертвая_душа@spbu_advert' \n",
    "for record in data_posts:   \n",
    "    title = record['text']           \n",
    "    if title.find(hashtag_1) == -1 & title.find(hashtag_2) == -1:\n",
    "        continue \n",
    "    if title.find(hashtag_1) != -1:\n",
    "        title = hashtag_1\n",
    "    else:\n",
    "        title = hashtag_2\n",
    "       \n",
    "    \n",
    "    year = datetime.fromtimestamp(record['date']).strftime('%Y') \n",
    "    month = datetime.fromtimestamp(record['date']).strftime('%Y.%m') \n",
    "    day = datetime.fromtimestamp(record['date']).strftime('%Y.%m.%d') \n",
    "    hour = datetime.fromtimestamp(record['date']).strftime('%H')                         \n",
    "        \n",
    "    \n",
    "       if title == hashtag_2:\n",
    "        stats_2.append([title , year, month, day, hour])\n",
    "    else:\n",
    "        stats_1.append([title , year, month, day, hour])\n",
    "\n",
    "\n",
    "#Создаем DataFrame (таблицу) из данных и записываем\n",
    "columns = [\"hashtag\", \"year\",\"month\", 'day', \"hour\"] #задаем заголовки таблицы\n",
    "df_1 = pd.DataFrame(data=stats_1, columns=columns)\n",
    "df_2 = pd.DataFrame(data=stats_2, columns=columns)"
   ]
  },
  {
   "cell_type": "code",
   "execution_count": 780,
   "metadata": {
    "scrolled": true
   },
   "outputs": [
    {
     "data": {
      "text/html": [
       "<div>\n",
       "<style scoped>\n",
       "    .dataframe tbody tr th:only-of-type {\n",
       "        vertical-align: middle;\n",
       "    }\n",
       "\n",
       "    .dataframe tbody tr th {\n",
       "        vertical-align: top;\n",
       "    }\n",
       "\n",
       "    .dataframe thead th {\n",
       "        text-align: right;\n",
       "    }\n",
       "</style>\n",
       "<table border=\"1\" class=\"dataframe\">\n",
       "  <thead>\n",
       "    <tr style=\"text-align: right;\">\n",
       "      <th></th>\n",
       "      <th>hashtag</th>\n",
       "      <th>count_post</th>\n",
       "    </tr>\n",
       "    <tr>\n",
       "      <th>month</th>\n",
       "      <th></th>\n",
       "      <th></th>\n",
       "    </tr>\n",
       "  </thead>\n",
       "  <tbody>\n",
       "    <tr>\n",
       "      <th>2015.06</th>\n",
       "      <td>#пропуск@spbu_advert#пропуск@spbu_advert#пропу...</td>\n",
       "      <td>8</td>\n",
       "    </tr>\n",
       "    <tr>\n",
       "      <th>2015.07</th>\n",
       "      <td>#пропуск@spbu_advert#пропуск@spbu_advert#пропу...</td>\n",
       "      <td>28</td>\n",
       "    </tr>\n",
       "    <tr>\n",
       "      <th>2015.08</th>\n",
       "      <td>#пропуск@spbu_advert#пропуск@spbu_advert#пропу...</td>\n",
       "      <td>10</td>\n",
       "    </tr>\n",
       "    <tr>\n",
       "      <th>2015.09</th>\n",
       "      <td>#пропуск@spbu_advert#пропуск@spbu_advert#пропу...</td>\n",
       "      <td>8</td>\n",
       "    </tr>\n",
       "    <tr>\n",
       "      <th>2015.10</th>\n",
       "      <td>#пропуск@spbu_advert#пропуск@spbu_advert#пропу...</td>\n",
       "      <td>8</td>\n",
       "    </tr>\n",
       "    <tr>\n",
       "      <th>...</th>\n",
       "      <td>...</td>\n",
       "      <td>...</td>\n",
       "    </tr>\n",
       "    <tr>\n",
       "      <th>2020.07</th>\n",
       "      <td>#пропуск@spbu_advert#пропуск@spbu_advert#пропу...</td>\n",
       "      <td>33</td>\n",
       "    </tr>\n",
       "    <tr>\n",
       "      <th>2020.08</th>\n",
       "      <td>#пропуск@spbu_advert#пропуск@spbu_advert#пропу...</td>\n",
       "      <td>43</td>\n",
       "    </tr>\n",
       "    <tr>\n",
       "      <th>2020.09</th>\n",
       "      <td>#пропуск@spbu_advert#пропуск@spbu_advert#пропу...</td>\n",
       "      <td>71</td>\n",
       "    </tr>\n",
       "    <tr>\n",
       "      <th>2020.10</th>\n",
       "      <td>#пропуск@spbu_advert#пропуск@spbu_advert#пропу...</td>\n",
       "      <td>53</td>\n",
       "    </tr>\n",
       "    <tr>\n",
       "      <th>2020.11</th>\n",
       "      <td>#пропуск@spbu_advert#пропуск@spbu_advert#пропу...</td>\n",
       "      <td>26</td>\n",
       "    </tr>\n",
       "  </tbody>\n",
       "</table>\n",
       "<p>64 rows × 2 columns</p>\n",
       "</div>"
      ],
      "text/plain": [
       "                                                   hashtag  count_post\n",
       "month                                                                 \n",
       "2015.06  #пропуск@spbu_advert#пропуск@spbu_advert#пропу...           8\n",
       "2015.07  #пропуск@spbu_advert#пропуск@spbu_advert#пропу...          28\n",
       "2015.08  #пропуск@spbu_advert#пропуск@spbu_advert#пропу...          10\n",
       "2015.09  #пропуск@spbu_advert#пропуск@spbu_advert#пропу...           8\n",
       "2015.10  #пропуск@spbu_advert#пропуск@spbu_advert#пропу...           8\n",
       "...                                                    ...         ...\n",
       "2020.07  #пропуск@spbu_advert#пропуск@spbu_advert#пропу...          33\n",
       "2020.08  #пропуск@spbu_advert#пропуск@spbu_advert#пропу...          43\n",
       "2020.09  #пропуск@spbu_advert#пропуск@spbu_advert#пропу...          71\n",
       "2020.10  #пропуск@spbu_advert#пропуск@spbu_advert#пропу...          53\n",
       "2020.11  #пропуск@spbu_advert#пропуск@spbu_advert#пропу...          26\n",
       "\n",
       "[64 rows x 2 columns]"
      ]
     },
     "execution_count": 780,
     "metadata": {},
     "output_type": "execute_result"
    }
   ],
   "source": [
    "#группировка таблиц по часам и удаление не нужных столбцов\n",
    "df_year_1 = df_1.drop(['hour', 'month', 'day'], axis=1)\n",
    "df_group_by_year_1 = df_year_1.groupby('year').sum()                                                          \n",
    "df_group_by_year_1['count_post'] = df_year_1.groupby('year')['hashtag'].count()                             \n",
    "         \n",
    "df_month_1 = df_1.drop(['hour', 'day', \"year\"], axis=1)  \n",
    "df_group_by_month_1 = df_month_1.groupby('month').sum()                                              \n",
    "df_group_by_month_1['count_post'] = df_month_1.groupby('month')['hashtag'].count() \n",
    "\n",
    "\n",
    "df_day_1 = df_1.drop(['hour', 'month', \"year\"], axis=1)\n",
    "df_group_by_day_1 = df_day_1.groupby('day').sum()                                                         \n",
    "df_group_by_day_1['count_post'] = df_day_1.groupby('day')['hashtag'].count() \n",
    "\n",
    "df_group_by_month_1"
   ]
  },
  {
   "cell_type": "code",
   "execution_count": 781,
   "metadata": {},
   "outputs": [],
   "source": [
    "df_year_1_old = df_group_by_year_1.loc[(df_group_by_year_1.index.get_level_values(level='year') >='2015') & (df_group_by_year_1.index.get_level_values(level='year') <='2019')].mean(level='year')\n",
    "df_month_1_old = df_group_by_month_1.loc[(df_group_by_month_1.index.get_level_values(level='month') >='2020.01') & (df_group_by_month_1.index.get_level_values(level='month') <='2020.09')].mean(level='month')\n",
    "df_year_1_new = df_group_by_year_1.loc[(df_group_by_year_1.index.get_level_values(level='year') >'2019')].mean(level='year')\n",
    "df_month_1_new = df_group_by_month_1.loc[ (df_group_by_month_1.index.get_level_values(level='month') >'2020.09')].mean(level='month')\n",
    "\n",
    "\n"
   ]
  },
  {
   "cell_type": "code",
   "execution_count": 782,
   "metadata": {},
   "outputs": [],
   "source": [
    "df_year_2 = df_2.drop(['hour', 'month', 'day'], axis=1)\n",
    "df_group_by_year_2 = df_year_2.groupby('year').sum()                                                          \n",
    "df_group_by_year_2['count_post'] = df_year_2.groupby('year')['hashtag'].count()                             \n",
    "         \n",
    "df_month_2 = df_2.drop(['hour', 'day', \"year\"], axis=1)  \n",
    "df_group_by_month_2 = df_month_2.groupby('month').sum()                                              \n",
    "df_group_by_month_2['count_post'] = df_month_2.groupby('month')['hashtag'].count() \n",
    "\n",
    "\n",
    "df_day_2 = df_2.drop(['hour', 'month', \"year\"], axis=1)\n",
    "df_group_by_day_2 = df_day_2.groupby('day').sum()                                                         \n",
    "df_group_by_day_2['count_post'] = df_day_2.groupby('day')['hashtag'].count() "
   ]
  },
  {
   "cell_type": "code",
   "execution_count": 783,
   "metadata": {},
   "outputs": [],
   "source": [
    "df_year_2_old = df_group_by_year_2.loc[(df_group_by_year_2.index.get_level_values(level='year') >='2015') & (df_group_by_year_2.index.get_level_values(level='year') <='2019')].mean(level='year')\n",
    "df_month_2_old = df_group_by_month_2.loc[(df_group_by_month_2.index.get_level_values(level='month') >='2020.01') & (df_group_by_month_2.index.get_level_values(level='month') <='2020.09')].mean(level='month')\n",
    "df_year_2_new = df_group_by_year_2.loc[(df_group_by_year_2.index.get_level_values(level='year') >'2019')].mean(level='year')\n",
    "df_month_2_new = df_group_by_month_2.loc[ (df_group_by_month_2.index.get_level_values(level='month') >'2020.09')].mean(level='month')\n",
    "\n"
   ]
  },
  {
   "cell_type": "markdown",
   "metadata": {},
   "source": [
    "# Линейная модель\n"
   ]
  },
  {
   "cell_type": "markdown",
   "metadata": {},
   "source": [
    "$y(t)=y(t_0)+v(t-t_0)$"
   ]
  },
  {
   "cell_type": "code",
   "execution_count": 786,
   "metadata": {},
   "outputs": [
    {
     "data": {
      "text/plain": [
       "[<matplotlib.lines.Line2D at 0x1ff1b19de08>]"
      ]
     },
     "execution_count": 786,
     "metadata": {},
     "output_type": "execute_result"
    },
    {
     "data": {
      "image/png": "[encoded data removed]",
      "text/plain": [
       "<Figure size 432x288 with 4 Axes>"
      ]
     },
     "metadata": {
      "needs_background": "light"
     },
     "output_type": "display_data"
    }
   ],
   "source": [
    "def y(x, a, b):\n",
    "    return a*x +b\n",
    "\n",
    "xx = np.linspace(0, 6, 1000)\n",
    "\n",
    "lr_year_1_old= LinearRegression()\n",
    "lr_year_1_old.fit(df_year_1_old.mean(level='year').index.values.astype('float').reshape(-1, 1)-2015, df_year_1_old.mean(level='year').count_post)\n",
    "\n",
    "lr_year_1_new= LinearRegression()\n",
    "lr_year_1_new.fit(df_group_by_year_1.mean(level='year').index.values.astype('float').reshape(-1, 1)-2015, df_group_by_year_1.mean(level='year').count_post)\n",
    "\n",
    "plt.subplot(221)\n",
    "plt.plot(df_group_by_year_1.mean(level='year').index.values.astype('float').reshape(-1, 1)-2015, df_group_by_year_1.mean(level='year').count_post)\n",
    "plt.plot(xx, y(xx,lr_year_1_old.coef_, lr_year_1_old.intercept_))\n",
    "plt.plot(df_year_1_old.mean(level='year').index.values.astype('float').reshape(-1, 1)-2015, df_year_1_old.mean(level='year').count_post, '*')\n",
    "\n",
    "plt.subplot(222)\n",
    "plt.plot(df_group_by_year_1.mean(level='year').index.values.astype('float').reshape(-1, 1)-2015, df_group_by_year_1.mean(level='year').count_post)\n",
    "plt.plot(df_year_1_new.mean(level='year').index.values.astype('float').reshape(-1, 1)-2015, df_year_1_new.mean(level='year').count_post, '*')\n",
    "plt.plot(xx, y(xx,lr_year_1_new.coef_, lr_year_1_new.intercept_))     \n",
    "plt.plot(df_year_1_old.mean(level='year').index.values.astype('float').reshape(-1, 1)-2015, df_year_1_old.mean(level='year').count_post, '*')\n",
    "\n",
    "##########################\n",
    "lr_year_2_old= LinearRegression()\n",
    "lr_year_2_old.fit(df_year_2_old.mean(level='year').index.values.astype('float').reshape(-1, 1)-2015, df_year_2_old.mean(level='year').count_post)\n",
    "\n",
    "lr_year_2_new= LinearRegression()\n",
    "lr_year_2_new.fit(df_group_by_year_2.mean(level='year').index.values.astype('float').reshape(-1, 1)-2015, df_group_by_year_2.mean(level='year').count_post)\n",
    "\n",
    "plt.subplot(223)\n",
    "plt.plot(df_group_by_year_2.mean(level='year').index.values.astype('float').reshape(-1, 1)-2015, df_group_by_year_2.mean(level='year').count_post)\n",
    "plt.plot(xx, y(xx,lr_year_2_old.coef_, lr_year_2_old.intercept_))\n",
    "plt.plot(df_year_2_old.mean(level='year').index.values.astype('float').reshape(-1, 1)-2015, df_year_2_old.mean(level='year').count_post, '*')\n",
    "\n",
    "plt.subplot(224)\n",
    "plt.plot(df_group_by_year_2.mean(level='year').index.values.astype('float').reshape(-1, 1)-2015, df_group_by_year_2.mean(level='year').count_post)\n",
    "plt.plot(df_year_2_new.mean(level='year').index.values.astype('float').reshape(-1, 1)-2015, df_year_2_new.mean(level='year').count_post, '*')\n",
    "plt.plot(xx, y(xx,lr_year_2_new.coef_, lr_year_2_new.intercept_))     \n",
    "plt.plot(df_year_2_old.mean(level='year').index.values.astype('float').reshape(-1, 1)-2015, df_year_2_old.mean(level='year').count_post, '*')\n",
    "\n"
   ]
  },
  {
   "cell_type": "code",
   "execution_count": 805,
   "metadata": {},
   "outputs": [
    {
     "name": "stdout",
     "output_type": "stream",
     "text": [
      "Линейная модель для первого хаштега:\n",
      "v =  34.900000000000006 , y_0 =  64.0\n",
      "v =  57.68571428571429 , y_0 =  33.61904761904762\n",
      "Линейная модель для второго хаштега:\n",
      "v =  91.39999999999999 , y_0 =  287.0\n",
      "v =  23.971428571428568 , y_0 =  376.9047619047619\n"
     ]
    }
   ],
   "source": [
    "print('Линейная модель для первого хаштега:')\n",
    "print('v = ', lr_year_1_old.coef_[0], ', y_0 = ', lr_year_1_old.intercept_)\n",
    "print('v = ', lr_year_1_new.coef_[0], ', y_0 = ', lr_year_1_new.intercept_)\n",
    "print('Линейная модель для второго хаштега:')\n",
    "print('v = ', lr_year_2_old.coef_[0], ', y_0 = ', lr_year_2_old.intercept_)\n",
    "print('v = ', lr_year_2_new.coef_[0], ', y_0 = ', lr_year_2_new.intercept_)"
   ]
  },
  {
   "cell_type": "code",
   "execution_count": 788,
   "metadata": {},
   "outputs": [
    {
     "data": {
      "text/plain": [
       "[<matplotlib.lines.Line2D at 0x1ff30d6f288>]"
      ]
     },
     "execution_count": 788,
     "metadata": {},
     "output_type": "execute_result"
    },
    {
     "data": {
      "image/png": "[encoded data removed]",
      "text/plain": [
       "<Figure size 432x288 with 4 Axes>"
      ]
     },
     "metadata": {
      "needs_background": "light"
     },
     "output_type": "display_data"
    }
   ],
   "source": [
    "xx = np.linspace(0, 12, 1000)\n",
    "\n",
    "lr_month_1_old= LinearRegression()\n",
    "lr_month_1_old.fit(df_month_1_old.mean(level='month').index.values.astype('float').reshape(-1, 1)*100-202000, df_month_1_old.mean(level='month').count_post)\n",
    "\n",
    "lr_month_1_new= LinearRegression()\n",
    "lr_month_1_new.fit(df_group_by_month_1.loc[(df_group_by_month_1.index.get_level_values(level='month') >='2020.01')].mean(level='month').index.values.astype('float').reshape(-1, 1)*100-202000,df_group_by_month_1.loc[(df_group_by_month_1.index.get_level_values(level='month') >='2020.01')].mean(level='month').count_post)\n",
    "\n",
    "plt.subplot(221)\n",
    "plt.plot(df_group_by_month_1.loc[(df_group_by_month_1.index.get_level_values(level='month') >='2020.01')].mean(level='month').index.values.astype('float').reshape(-1, 1)*100-202000,df_group_by_month_1.loc[(df_group_by_month_1.index.get_level_values(level='month') >='2020.01')].mean(level='month').count_post)\n",
    "plt.plot(xx, y(xx,lr_month_1_old.coef_, lr_month_1_old.intercept_))\n",
    "plt.plot(df_month_1_old.mean(level='month').index.values.astype('float').reshape(-1, 1)*100-202000, df_month_1_old.mean(level='month').count_post, '*')\n",
    "\n",
    "plt.subplot(222)\n",
    "plt.plot(df_group_by_month_1.loc[(df_group_by_month_1.index.get_level_values(level='month') >='2020.01')].mean(level='month').index.values.astype('float').reshape(-1, 1)*100-202000,df_group_by_month_1.loc[(df_group_by_month_1.index.get_level_values(level='month') >='2020.01')].mean(level='month').count_post)\n",
    "\n",
    "plt.plot(df_month_1_new.mean(level='month').index.values.astype('float').reshape(-1, 1)*100-202000, df_month_1_new.mean(level='month').count_post, '*')\n",
    "plt.plot(xx, y(xx,lr_month_1_new.coef_, lr_month_1_new.intercept_))     \n",
    "plt.plot(df_month_1_old.mean(level='month').index.values.astype('float').reshape(-1, 1)*100-202000, df_month_1_old.mean(level='month').count_post, '*')\n",
    "\n",
    "##############################################\n",
    "\n",
    "lr_month_2_old= LinearRegression()\n",
    "lr_month_2_old.fit(df_month_2_old.mean(level='month').index.values.astype('float').reshape(-1, 1)*100-202000, df_month_2_old.mean(level='month').count_post)\n",
    "\n",
    "lr_month_2_new= LinearRegression()\n",
    "lr_month_2_new.fit(df_group_by_month_2.loc[(df_group_by_month_2.index.get_level_values(level='month') >='2020.01')].mean(level='month').index.values.astype('float').reshape(-1, 1)*100-202000,df_group_by_month_2.loc[(df_group_by_month_2.index.get_level_values(level='month') >='2020.01')].mean(level='month').count_post)\n",
    "\n",
    "plt.subplot(223)\n",
    "plt.plot(df_group_by_month_2.loc[(df_group_by_month_2.index.get_level_values(level='month') >='2020.01')].mean(level='month').index.values.astype('float').reshape(-1, 1)*100-202000,df_group_by_month_2.loc[(df_group_by_month_2.index.get_level_values(level='month') >='2020.01')].mean(level='month').count_post)\n",
    "plt.plot(xx, y(xx,lr_month_2_old.coef_, lr_month_2_old.intercept_))\n",
    "plt.plot(df_month_2_old.mean(level='month').index.values.astype('float').reshape(-1, 1)*100-202000, df_month_2_old.mean(level='month').count_post, '*')\n",
    "\n",
    "plt.subplot(224)\n",
    "plt.plot(df_group_by_month_2.loc[(df_group_by_month_2.index.get_level_values(level='month') >='2020.01')].mean(level='month').index.values.astype('float').reshape(-1, 1)*100-202000,df_group_by_month_2.loc[(df_group_by_month_2.index.get_level_values(level='month') >='2020.01')].mean(level='month').count_post)\n",
    "\n",
    "plt.plot(df_month_2_new.mean(level='month').index.values.astype('float').reshape(-1, 1)*100-202000, df_month_2_new.mean(level='month').count_post, '*')\n",
    "plt.plot(xx, y(xx,lr_month_2_new.coef_, lr_month_2_new.intercept_))     \n",
    "plt.plot(df_month_2_old.mean(level='month').index.values.astype('float').reshape(-1, 1)*100-202000, df_month_2_old.mean(level='month').count_post, '*')\n"
   ]
  },
  {
   "cell_type": "code",
   "execution_count": 806,
   "metadata": {},
   "outputs": [
    {
     "name": "stdout",
     "output_type": "stream",
     "text": [
      "Линейная модель для первого хаштега:\n",
      "v =  3.966666666666667 , y_0 =  15.611111111111107\n",
      "v =  2.372727272727273 , y_0 =  21.94545454545454\n",
      "Линейная модель для второго хаштега:\n",
      "v =  -1.0000000000000007 , y_0 =  31.111111111111114\n",
      "v =  -1.2272727272727277 , y_0 =  32.09090909090909\n"
     ]
    }
   ],
   "source": [
    "print('Линейная модель для первого хаштега:')\n",
    "print('v = ', lr_month_1_old.coef_[0], ', y_0 = ', lr_month_1_old.intercept_)\n",
    "print('v = ', lr_month_1_new.coef_[0], ', y_0 = ', lr_month_1_new.intercept_)\n",
    "print('Линейная модель для второго хаштега:')\n",
    "print('v = ', lr_month_2_old.coef_[0], ', y_0 = ', lr_month_2_old.intercept_)\n",
    "print('v = ', lr_month_2_new.coef_[0], ', y_0 = ', lr_month_2_new.intercept_)"
   ]
  },
  {
   "cell_type": "markdown",
   "metadata": {},
   "source": [
    "# Экспоненциальная модель"
   ]
  },
  {
   "cell_type": "markdown",
   "metadata": {},
   "source": [
    "$ y(t) =y(t_0)e^{\\lambda(t-t_0)}$"
   ]
  },
  {
   "cell_type": "code",
   "execution_count": 751,
   "metadata": {},
   "outputs": [
    {
     "name": "stdout",
     "output_type": "stream",
     "text": [
      "[78.47574757  0.24117011  1.          1.        ]\n",
      "[3.08409395e+02 1.92572464e-01 1.00000000e+00 1.00000000e+00]\n",
      "[57.20337424  0.37220552  1.          1.        ]\n",
      "[3.88943750e+02 4.54924174e-02 1.00000000e+00 1.00000000e+00]\n"
     ]
    },
    {
     "data": {
      "text/plain": [
       "[<matplotlib.lines.Line2D at 0x1ff2e158d88>]"
      ]
     },
     "execution_count": 751,
     "metadata": {},
     "output_type": "execute_result"
    },
    {
     "data": {
      "image/png": "[encoded data removed]",
      "text/plain": [
       "<Figure size 432x288 with 4 Axes>"
      ]
     },
     "metadata": {
      "needs_background": "light"
     },
     "output_type": "display_data"
    }
   ],
   "source": [
    "%matplotlib inline\n",
    "\n",
    "x = df_year_1_old.mean(level='year').index.values.astype('float')-2015\n",
    "y = df_year_1_old['count_post'].values\n",
    "x0 = float(df_year_1_old.mean(level='year').idxmax().count_post)-2015\n",
    "def piecewise_linear(x, a_1, b_1, a_2, b_2):\n",
    "    return np.piecewise(x, [x <= x0+3], [lambda x:a_1*np.exp(b_1*x), lambda x:a_2*np.exp(b_2*x)])\n",
    "\n",
    "p , e = optimize.curve_fit(piecewise_linear, x, y,method= 'dogbox', maxfev=20000 )\n",
    "print(p)\n",
    "xx = np.linspace(0, float(df_year_1_old.mean(level='year').index.values[-1])-2015+2, 1000)\n",
    "plt.subplot(221)\n",
    "plt.plot(df_group_by_year_1.mean(level='year').index.values.astype('float').reshape(-1, 1)-2015, df_group_by_year_1.mean(level='year').count_post, '*')\n",
    "\n",
    "plt.plot(df_group_by_year_1.mean(level='year').index.values.astype('float').reshape(-1, 1)-2015, df_group_by_year_1.mean(level='year').count_post)\n",
    "\n",
    "plt.plot(xx, piecewise_linear(xx, *p))\n",
    "\n",
    "############################\n",
    "\n",
    "x = df_year_2_old.mean(level='year').index.values.astype('float')-2015\n",
    "y = df_year_2_old['count_post'].values\n",
    "x0 = float(df_year_2_old.mean(level='year').idxmax().count_post)-2015\n",
    "def piecewise_linear(x, a_1, b_1, a_2, b_2):\n",
    "    return np.piecewise(x, [x <= x0+3], [lambda x:a_1*np.exp(b_1*x), lambda x:a_2*np.exp(b_2*x)])\n",
    "\n",
    "p , e = optimize.curve_fit(piecewise_linear, x, y,method= 'dogbox', maxfev=20000 )\n",
    "\n",
    "print(p)\n",
    "\n",
    "xx = np.linspace(0, float(df_year_2_old.mean(level='year').index.values[-1])-2015+2, 1000)\n",
    "plt.subplot(223)\n",
    "plt.plot(df_group_by_year_2.mean(level='year').index.values.astype('float').reshape(-1, 1)-2015, df_group_by_year_2.mean(level='year').count_post, '*')\n",
    "\n",
    "plt.plot(df_group_by_year_2.mean(level='year').index.values.astype('float').reshape(-1, 1)-2015, df_group_by_year_2.mean(level='year').count_post)\n",
    "\n",
    "plt.plot(xx, piecewise_linear(xx, *p))\n",
    "\n",
    "#################\n",
    "\n",
    "x = df_group_by_year_1.mean(level='year').index.values.astype('float')-2015\n",
    "y = df_group_by_year_1['count_post'].values\n",
    "x0 = float(df_group_by_year_1.mean(level='year').idxmax().count_post)-2015\n",
    "def piecewise_linear(x, a_1, b_1, a_2, b_2):\n",
    "    return np.piecewise(x, [x <= x0+3], [lambda x:a_1*np.exp(b_1*x), lambda x:a_2*np.exp(b_2*x)])\n",
    "\n",
    "p , e = optimize.curve_fit(piecewise_linear, x, y,method= 'dogbox', maxfev=20000 )\n",
    "print(p)\n",
    "xx = np.linspace(0, float(df_group_by_year_1.mean(level='year').index.values[-1])-2015+1, 1000)\n",
    "plt.subplot(222)\n",
    "plt.plot(df_group_by_year_1.mean(level='year').index.values.astype('float').reshape(-1, 1)-2015, df_group_by_year_1.mean(level='year').count_post, '*')\n",
    "\n",
    "plt.plot(df_group_by_year_1.mean(level='year').index.values.astype('float').reshape(-1, 1)-2015, df_group_by_year_1.mean(level='year').count_post)\n",
    "\n",
    "plt.plot(xx, piecewise_linear(xx, *p))\n",
    "\n",
    "############################\n",
    "\n",
    "x = df_group_by_year_2.mean(level='year').index.values.astype('float')-2015\n",
    "y = df_group_by_year_2['count_post'].values\n",
    "x0 = float(df_group_by_year_2.mean(level='year').idxmax().count_post)-2015\n",
    "def piecewise_linear(x, a_1, b_1, a_2, b_2):\n",
    "    return np.piecewise(x, [x <= x0+3], [lambda x:a_1*np.exp(b_1*x), lambda x:a_2*np.exp(b_2*x)])\n",
    "\n",
    "p , e = optimize.curve_fit(piecewise_linear, x, y,method= 'dogbox', maxfev=20000 )\n",
    "\n",
    "print(p)\n",
    "\n",
    "xx = np.linspace(0, float(df_group_by_year_2.mean(level='year').index.values[-1])-2015+1, 1000)\n",
    "plt.subplot(224)\n",
    "plt.plot(df_group_by_year_2.mean(level='year').index.values.astype('float').reshape(-1, 1)-2015, df_group_by_year_2.mean(level='year').count_post, '*')\n",
    "plt.plot(df_group_by_year_2.mean(level='year').index.values.astype('float').reshape(-1, 1)-2015, df_group_by_year_2.mean(level='year').count_post)\n",
    "\n",
    "plt.plot(xx, piecewise_linear(xx, *p))"
   ]
  },
  {
   "cell_type": "code",
   "execution_count": 607,
   "metadata": {},
   "outputs": [],
   "source": []
  },
  {
   "cell_type": "code",
   "execution_count": 757,
   "metadata": {},
   "outputs": [
    {
     "name": "stdout",
     "output_type": "stream",
     "text": [
      "[57.20337424  0.37220552  1.          1.        ]\n",
      "[ 2.74205062e+02  2.70979405e-01  1.68726145e+04 -8.25529016e-01]\n"
     ]
    },
    {
     "data": {
      "text/plain": [
       "[<matplotlib.lines.Line2D at 0x1ff2e5e4808>]"
      ]
     },
     "execution_count": 757,
     "metadata": {},
     "output_type": "execute_result"
    },
    {
     "data": {
      "image/png": "[encoded data removed]",
      "text/plain": [
       "<Figure size 432x288 with 2 Axes>"
      ]
     },
     "metadata": {
      "needs_background": "light"
     },
     "output_type": "display_data"
    }
   ],
   "source": [
    "\n",
    "#################\n",
    "\n",
    "x = df_group_by_year_1.mean(level='year').index.values.astype('float')-2015\n",
    "y = df_group_by_year_1['count_post'].values\n",
    "x0 = float(df_group_by_year_1.mean(level='year').idxmax().count_post)-2015\n",
    "def piecewise_linear(x, a_1, b_1, a_2, b_2):\n",
    "    return np.piecewise(x, [x <= x0+2], [lambda x:a_1*np.exp(b_1*x), lambda x:a_2*np.exp(b_2*x)])\n",
    "\n",
    "p , e = optimize.curve_fit(piecewise_linear, x, y,method= 'dogbox', maxfev=20000 )\n",
    "print(p)\n",
    "xx = np.linspace(0, float(df_group_by_year_1.mean(level='year').index.values[-1])-2015+1, 1000)\n",
    "plt.subplot(221)\n",
    "plt.plot(df_group_by_year_1.mean(level='year').index.values.astype('float').reshape(-1, 1)-2015, df_group_by_year_1.mean(level='year').count_post, '*')\n",
    "\n",
    "plt.plot(df_group_by_year_1.mean(level='year').index.values.astype('float').reshape(-1, 1)-2015, df_group_by_year_1.mean(level='year').count_post)\n",
    "\n",
    "plt.plot(xx, piecewise_linear(xx, *p))\n",
    "\n",
    "############################\n",
    "\n",
    "x = df_group_by_year_2.mean(level='year').index.values.astype('float')-2015\n",
    "y = df_group_by_year_2['count_post'].values\n",
    "x0 = float(df_group_by_year_2.mean(level='year').idxmax().count_post)-2015\n",
    "def piecewise_linear(x, a_1, b_1, a_2, b_2):\n",
    "    return np.piecewise(x, [x <= x0+0.8], [lambda x:a_1*np.exp(b_1*x), lambda x:a_2*np.exp(b_2*x)])\n",
    "\n",
    "p , e = optimize.curve_fit(piecewise_linear, x, y,method= 'dogbox', maxfev=20000 )\n",
    "\n",
    "print(p)\n",
    "\n",
    "xx = np.linspace(0, float(df_group_by_year_2.mean(level='year').index.values[-1])-2015+1, 1000)\n",
    "plt.subplot(222)\n",
    "plt.plot(df_group_by_year_2.mean(level='year').index.values.astype('float').reshape(-1, 1)-2015, df_group_by_year_2.mean(level='year').count_post, '*')\n",
    "plt.plot(df_group_by_year_2.mean(level='year').index.values.astype('float').reshape(-1, 1)-2015, df_group_by_year_2.mean(level='year').count_post)\n",
    "\n",
    "plt.plot(xx, piecewise_linear(xx, *p))"
   ]
  },
  {
   "cell_type": "code",
   "execution_count": 800,
   "metadata": {},
   "outputs": [
    {
     "name": "stdout",
     "output_type": "stream",
     "text": [
      "[17.58109248  0.12817481  1.          1.        ]\n",
      "[35.05521423 -0.06247901  1.          1.        ]\n",
      "[24.8016123   0.06021879  1.          1.        ]\n",
      "[35.16771613 -0.06261588  1.          1.        ]\n"
     ]
    },
    {
     "data": {
      "text/plain": [
       "[<matplotlib.lines.Line2D at 0x1ff32b57848>]"
      ]
     },
     "execution_count": 800,
     "metadata": {},
     "output_type": "execute_result"
    },
    {
     "data": {
      "image/png": "[encoded data removed]",
      "text/plain": [
       "<Figure size 432x288 with 4 Axes>"
      ]
     },
     "metadata": {
      "needs_background": "light"
     },
     "output_type": "display_data"
    }
   ],
   "source": [
    "%matplotlib inline\n",
    "\n",
    "x = (df_month_1_old.mean(level='month').index.values.astype('float')-2020)*100\n",
    "y = df_month_1_old['count_post'].values\n",
    "x0 = (float(df_month_1_old.mean(level='month').idxmax().count_post)-2020)*100\n",
    "def piecewise_linear(x, a_1, b_1, a_2, b_2):\n",
    "    return np.piecewise(x, [x <= x0+20], [lambda x:a_1*np.exp(b_1*x), lambda x:a_2*np.exp(b_2*x)])\n",
    "\n",
    "p , e = optimize.curve_fit(piecewise_linear, x, y,method= 'trf', maxfev=20000 )\n",
    "\n",
    "print(p)\n",
    "\n",
    "xx = np.linspace(1, (float(df_month_1_old.mean(level='month').index.values[-1])-2020)*100+3, 1000)\n",
    "\n",
    "plt.subplot(221)\n",
    "plt.plot((df_group_by_month_1.loc[(df_group_by_month_1.index.get_level_values(level='month') >='2020.01')].mean(level='month').index.values.astype('float').reshape(-1, 1)-2020)*100,df_group_by_month_1.loc[(df_group_by_month_1.index.get_level_values(level='month') >='2020.01')].mean(level='month').count_post, '*')\n",
    "\n",
    "plt.plot(xx, piecewise_linear(xx, *p))\n",
    "plt.plot((df_group_by_month_1.loc[(df_group_by_month_1.index.get_level_values(level='month') >='2020.01')].mean(level='month').index.values.astype('float').reshape(-1, 1)-2020)*100,df_group_by_month_1.loc[(df_group_by_month_1.index.get_level_values(level='month') >='2020.01')].mean(level='month').count_post)\n",
    "\n",
    "##########\n",
    "\n",
    "\n",
    "x = (df_month_2_old.mean(level='month').index.values.astype('float')-2020)*100\n",
    "y = df_month_2_old['count_post'].values\n",
    "x0 = (float(df_month_2_old.mean(level='month').idxmax().count_post)-2020)*100\n",
    "def piecewise_linear(x, a_1, b_1, a_2, b_2):\n",
    "    return np.piecewise(x, [x <= x0+20], [lambda x:a_1*np.exp(b_1*x), lambda x:a_2*np.exp(b_2*x)])\n",
    "\n",
    "p , e = optimize.curve_fit(piecewise_linear, x, y,method= 'trf', maxfev=20000 )\n",
    "\n",
    "print(p)\n",
    "\n",
    "xx = np.linspace(1, (float(df_month_2_old.mean(level='month').index.values[-1])-2020)*100+3, 1000)\n",
    "\n",
    "plt.subplot(223)\n",
    "plt.plot((df_group_by_month_2.loc[(df_group_by_month_2.index.get_level_values(level='month') >='2020.01')].mean(level='month').index.values.astype('float').reshape(-1, 1)-2020)*100,df_group_by_month_2.loc[(df_group_by_month_2.index.get_level_values(level='month') >='2020.01')].mean(level='month').count_post, '*')\n",
    "\n",
    "plt.plot((df_group_by_month_2.loc[(df_group_by_month_2.index.get_level_values(level='month') >='2020.01')].mean(level='month').index.values.astype('float').reshape(-1, 1)-2020)*100,df_group_by_month_2.loc[(df_group_by_month_2.index.get_level_values(level='month') >='2020.01')].mean(level='month').count_post)\n",
    "\n",
    "plt.plot(xx, piecewise_linear(xx, *p))\n",
    "\n",
    "########################3\n",
    "\n",
    "x = (df_group_by_month_1.loc[(df_group_by_month_1.index.get_level_values(level='month') >='2020.01')].mean(level='month').index.values.astype('float')-2020)*100\n",
    "y = df_group_by_month_1.loc[(df_group_by_month_1.index.get_level_values(level='month') >='2020.01')]['count_post'].values\n",
    "x0 = (float(df_group_by_month_1.loc[(df_group_by_month_1.index.get_level_values(level='month') >='2020.01')].mean(level='month').idxmax().count_post)-2020)*100\n",
    "def piecewise_linear(x, a_1, b_1, a_2, b_2):\n",
    "    return np.piecewise(x, [x <= x0+20], [lambda x:a_1*np.exp(b_1*x), lambda x:a_2*np.exp(b_2*x)])\n",
    "\n",
    "p , e = optimize.curve_fit(piecewise_linear, x, y,method= 'trf', maxfev=20000 )\n",
    "\n",
    "print(p)\n",
    "\n",
    "xx = np.linspace(1, (float(df_group_by_month_1.loc[(df_group_by_month_1.index.get_level_values(level='month') >='2020.01')].mean(level='month').index.values[-1])-2020)*100+1, 1000)\n",
    "\n",
    "plt.subplot(222)\n",
    "plt.plot((df_group_by_month_1.loc[(df_group_by_month_1.index.get_level_values(level='month') >='2020.01')].mean(level='month').index.values.astype('float').reshape(-1, 1)-2020)*100,df_group_by_month_1.loc[(df_group_by_month_1.index.get_level_values(level='month') >='2020.01')].mean(level='month').count_post, '*')\n",
    "\n",
    "plt.plot(xx, piecewise_linear(xx, *p))\n",
    "plt.plot((df_group_by_month_1.loc[(df_group_by_month_1.index.get_level_values(level='month') >='2020.01')].mean(level='month').index.values.astype('float').reshape(-1, 1)-2020)*100,df_group_by_month_1.loc[(df_group_by_month_1.index.get_level_values(level='month') >='2020.01')].mean(level='month').count_post)\n",
    "\n",
    "##########\n",
    "\n",
    "\n",
    "x = (df_group_by_month_2.loc[(df_group_by_month_2.index.get_level_values(level='month') >='2020.01')].mean(level='month').index.values.astype('float')-2020)*100\n",
    "y = df_group_by_month_2.loc[(df_group_by_month_2.index.get_level_values(level='month') >='2020.01')]['count_post'].values\n",
    "x0 = (float(df_group_by_month_2.loc[(df_group_by_month_2.index.get_level_values(level='month') >='2020.01')].mean(level='month').idxmax().count_post)-2020)*100\n",
    "def piecewise_linear(x, a_1, b_1, a_2, b_2):\n",
    "    return np.piecewise(x, [x <= x0+20], [lambda x:a_1*np.exp(b_1*x), lambda x:a_2*np.exp(b_2*x)])\n",
    "\n",
    "p , e = optimize.curve_fit(piecewise_linear, x, y,method= 'trf', maxfev=20000 )\n",
    "\n",
    "print(p)\n",
    "\n",
    "xx = np.linspace(1, (float(df_group_by_month_2.loc[(df_group_by_month_2.index.get_level_values(level='month') >='2020.01')].mean(level='month').index.values[-1])-2020)*100+1, 1000)\n",
    "\n",
    "plt.subplot(224)\n",
    "plt.plot((df_group_by_month_2.loc[(df_group_by_month_2.index.get_level_values(level='month') >='2020.01')].mean(level='month').index.values.astype('float').reshape(-1, 1)-2020)*100,df_group_by_month_2.loc[(df_group_by_month_2.index.get_level_values(level='month') >='2020.01')].mean(level='month').count_post, '*')\n",
    "\n",
    "plt.plot((df_group_by_month_2.loc[(df_group_by_month_2.index.get_level_values(level='month') >='2020.01')].mean(level='month').index.values.astype('float').reshape(-1, 1)-2020)*100,df_group_by_month_2.loc[(df_group_by_month_2.index.get_level_values(level='month') >='2020.01')].mean(level='month').count_post)\n",
    "\n",
    "plt.plot(xx, piecewise_linear(xx, *p))\n"
   ]
  },
  {
   "cell_type": "code",
   "execution_count": null,
   "metadata": {},
   "outputs": [],
   "source": []
  }
 ],
 "metadata": {
  "kernelspec": {
   "display_name": "Python 3",
   "language": "python",
   "name": "python3"
  },
  "language_info": {
   "codemirror_mode": {
    "name": "ipython",
    "version": 3
   },
   "file_extension": ".py",
   "mimetype": "text/x-python",
   "name": "python",
   "nbconvert_exporter": "python",
   "pygments_lexer": "ipython3",
   "version": "3.7.4"
  }
 },
 "nbformat": 4,
 "nbformat_minor": 2
}
